{
 "cells": [
  {
   "cell_type": "code",
   "execution_count": 76,
   "id": "61d02e4e",
   "metadata": {},
   "outputs": [],
   "source": [
    "import numpy as np\n",
    "import matplotlib.pyplot as plt\n",
    "from scipy.optimize import minimize\n",
    "from scipy.stats import norm"
   ]
  },
  {
   "cell_type": "code",
   "execution_count": 77,
   "id": "bf3a1e1f",
   "metadata": {},
   "outputs": [],
   "source": [
    "data_circuit1 = np.load(\"C:/Users/Rianne/Downloads/DFA2/DFA_Assignment2_2024/Circuit1/spectrum-f_min_0-f_max_12501-f_step_250.npz\")['arr_0']\n",
    "data_circuit2 = np.load(\"C:/Users/Rianne/Downloads/DFA2/DFA_Assignment2_2024/Circuit2/spectrum-f_min_0-f_max_12501-f_step_250.npz\")['arr_0']\n",
    "\n",
    "# Extract the first column (complex impedance)\n",
    "impedance_circuit1 = data_circuit1[:, 0]\n",
    "impedance_circuit2 = data_circuit2[:, 0]\n",
    "\n",
    "# Separate into real and imaginary components\n",
    "real_circuit1 = impedance_circuit1.real\n",
    "imag_circuit1 = impedance_circuit1.imag\n",
    "\n",
    "real_circuit2 = impedance_circuit2.real\n",
    "imag_circuit2 = impedance_circuit2.imag"
   ]
  },
  {
   "cell_type": "code",
   "execution_count": 78,
   "id": "cf82c1de",
   "metadata": {},
   "outputs": [
    {
     "data": {
      "image/png": "[encoded data removed]",
      "text/plain": [
       "<Figure size 720x360 with 1 Axes>"
      ]
     },
     "metadata": {
      "needs_background": "light"
     },
     "output_type": "display_data"
    }
   ],
   "source": [
    "# Plot Nyquist plots\n",
    "plt.figure(figsize=(10, 5))\n",
    "\n",
    "# Circuit 1\n",
    "plt.plot(real_circuit1, -imag_circuit1, 'o-', label='Circuit 1')\n",
    "\n",
    "# Circuit 2\n",
    "plt.plot(real_circuit2, -imag_circuit2, 's-', label='Circuit 2')\n",
    "\n",
    "plt.title(\"Nyquist Plot\")\n",
    "plt.xlabel(\"Real Impedance (Ohms)\")\n",
    "plt.ylabel(\"Imaginary Impedance (-Ohms)\")\n",
    "plt.legend()\n",
    "plt.grid()\n",
    "plt.show()"
   ]
  },
  {
   "cell_type": "code",
   "execution_count": 79,
   "id": "bb62ab32",
   "metadata": {},
   "outputs": [],
   "source": [
    "# Define models for Circuit A and Circuit B\n",
    "def model_circuit_a(frequencies, R, C):\n",
    "    \"\"\"Circuit A: R-C Parallel Model.\"\"\"\n",
    "    omega = 2 * np.pi * frequencies\n",
    "    return R / (1 + 1j * omega * R * C)\n",
    "\n",
    "def model_circuit_b(frequencies, R1, C1, R2, C2):\n",
    "    \"\"\"Circuit B: Double R-C Parallel Model.\"\"\"\n",
    "    omega = 2 * np.pi * frequencies\n",
    "    Z1 = R1 / (1 + 1j * omega * R1 * C1)\n",
    "    Z2 = R2 / (1 + 1j * omega * R2 * C2)\n",
    "    return Z1 + Z2\n",
    "\n",
    "# Define likelihood function\n",
    "def log_likelihood(params, model, frequencies, real_data, imag_data):\n",
    "    \"\"\"Log-likelihood for Bayesian model fitting.\"\"\"\n",
    "    if model == \"A\":\n",
    "        R, C = params\n",
    "        predicted = model_circuit_a(frequencies, R, C)\n",
    "    elif model == \"B\":\n",
    "        R1, C1, R2, C2 = params\n",
    "        predicted = model_circuit_b(frequencies, R1, C1, R2, C2)\n",
    "    else:\n",
    "        raise ValueError(\"Unknown model type\")\n",
    "\n",
    "    # Compute residuals\n",
    "    residual_real = real_data - predicted.real\n",
    "    residual_imag = imag_data - predicted.imag\n",
    "\n",
    "    # Gaussian likelihood\n",
    "    sigma = 1.0  # Assume measurement noise of 1 Ohm\n",
    "    log_likelihood_real = np.sum(norm.logpdf(residual_real, scale=sigma))\n",
    "    log_likelihood_imag = np.sum(norm.logpdf(residual_imag, scale=sigma))\n",
    "\n",
    "    return log_likelihood_real + log_likelihood_imag\n",
    "\n",
    "# Define Bayesian evidence calculation\n",
    "def compute_bayesian_evidence(model, frequencies, real_data, imag_data, priors):\n",
    "    \"\"\"Compute Bayesian evidence for a model.\"\"\"\n",
    "    def negative_log_posterior(params):\n",
    "        \"\"\"Negative log posterior (likelihood + prior).\"\"\"\n",
    "        log_prior = 0\n",
    "        for p, (low, high) in zip(params, priors):\n",
    "            if p < low or p > high:  # Uniform prior bounds\n",
    "                return np.inf\n",
    "            log_prior += np.log(1 / (high - low))\n",
    "        log_likelihood_value = log_likelihood(params, model, frequencies, real_data, imag_data)\n",
    "        return -(log_prior + log_likelihood_value)\n",
    "\n",
    "    # Initial guess: midpoint of prior bounds\n",
    "    initial_guess = [(low + high) / 2 for low, high in priors]\n",
    "\n",
    "    # Minimize negative log posterior\n",
    "    result = minimize(negative_log_posterior, initial_guess, method='L-BFGS-B')\n",
    "    best_fit_params = result.x\n",
    "    evidence = -result.fun  # Evidence is exp(-negative log posterior)\n",
    "    return evidence, best_fit_params"
   ]
  },
  {
   "cell_type": "code",
   "execution_count": 81,
   "id": "56b00e13",
   "metadata": {},
   "outputs": [
    {
     "name": "stdout",
     "output_type": "stream",
     "text": [
      "Circuit A Evidence: -9991618.697299384\n",
      "Circuit A Parameters: [5.050e+03 5.005e-06]\n",
      "Circuit B Evidence: -43588818.92818384\n",
      "Circuit B Parameters: [5.050e+03 5.005e-06 5.050e+03 5.005e-06]\n"
     ]
    }
   ],
   "source": [
    "# Define frequencies (example: linearly spaced from 1 Hz to 12.5 kHz)\n",
    "frequencies = np.linspace(1, 12501, len(real_circuit1))\n",
    "\n",
    "# Priors for Circuit A and B\n",
    "priors_a = [(100, 10000), (1e-8, 1e-5)]  # R and C bounds\n",
    "priors_b = [(100, 10000), (1e-8, 1e-5), (100, 10000), (1e-8, 1e-5)]  # R1, C1, R2, C2 bounds\n",
    "\n",
    "# Compute evidence for Circuit A\n",
    "evidence_a, params_a = compute_bayesian_evidence(\"A\", frequencies, real_circuit1, imag_circuit1, priors_a)\n",
    "\n",
    "# Compute evidence for Circuit B\n",
    "evidence_b, params_b = compute_bayesian_evidence(\"B\", frequencies, real_circuit1, imag_circuit1, priors_b)\n",
    "\n",
    "# Print results\n",
    "print(\"Circuit A Evidence:\", evidence_a)\n",
    "print(\"Circuit A Parameters:\", params_a)\n",
    "\n",
    "print(\"Circuit B Evidence:\", evidence_b)\n",
    "print(\"Circuit B Parameters:\", params_b)"
   ]
  },
  {
   "cell_type": "code",
   "execution_count": null,
   "id": "02a60af1",
   "metadata": {},
   "outputs": [],
   "source": []
  }
 ],
 "metadata": {
  "kernelspec": {
   "display_name": "Python 3 (ipykernel)",
   "language": "python",
   "name": "python3"
  },
  "language_info": {
   "codemirror_mode": {
    "name": "ipython",
    "version": 3
   },
   "file_extension": ".py",
   "mimetype": "text/x-python",
   "name": "python",
   "nbconvert_exporter": "python",
   "pygments_lexer": "ipython3",
   "version": "3.10.4"
  }
 },
 "nbformat": 4,
 "nbformat_minor": 5
}
